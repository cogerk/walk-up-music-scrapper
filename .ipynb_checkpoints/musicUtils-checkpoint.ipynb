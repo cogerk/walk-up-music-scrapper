{
 "cells": [
  {
   "cell_type": "code",
   "execution_count": 1,
   "metadata": {},
   "outputs": [
    {
     "name": "stderr",
     "output_type": "stream",
     "text": [
      "/Users/kathryncogert/Documents/Repos/Baseball/env/lib/python3.6/importlib/_bootstrap.py:219: RuntimeWarning: numpy.dtype size changed, may indicate binary incompatibility. Expected 96, got 88\n",
      "  return f(*args, **kwds)\n"
     ]
    }
   ],
   "source": [
    "import os\n",
    "import sys\n",
    "import math\n",
    "import string\n",
    "import pandas as pd\n",
    "import discogs_client\n",
    "from time import sleep\n",
    "from authorization import authenticate_music_db\n",
    "from webscrapper import write_to_walkup_db"
   ]
  },
  {
   "cell_type": "code",
   "execution_count": 2,
   "metadata": {},
   "outputs": [],
   "source": [
    "# strip case and punctuations\n",
    "def normalize(s):\n",
    "    s = s.lower().split(' feat')[0]\n",
    "    s = s.lower().split(' ft.')[0]\n",
    "    s = s.lower().split(' (with')[0]\n",
    "    s = s.split('/')[0]\n",
    "    s = s.replace('\\'n','and')\n",
    "    s = s.replace(' n ',' and ')\n",
    "    s = s.replace(' & ',' and ')\n",
    "    for p in string.punctuation:\n",
    "        s = s.replace(p, '')\n",
    "    return s.strip()"
   ]
  },
  {
   "cell_type": "code",
   "execution_count": 3,
   "metadata": {},
   "outputs": [
    {
     "name": "stdout",
     "output_type": "stream",
     "text": [
      "Please browse to the following URL https://www.discogs.com/oauth/authorize?oauth_token=kGjiqHQYwWCuTCzFpIRgkWAxzuxflIJllYRpMKbE\n",
      "\n",
      "Have you authorized me at https://www.discogs.com/oauth/authorize?oauth_token=kGjiqHQYwWCuTCzFpIRgkWAxzuxflIJllYRpMKbE [y/n]: fsiBKGYozd\n",
      "Verification code :fsiBKGYozd\n",
      "WUQwZujYJGymOjAirsnmljCihxHPwIHgdnlBXrkJ\n",
      " Authentication complete.\n"
     ]
    }
   ],
   "source": [
    "music_db = authenticate_music_db()"
   ]
  },
  {
   "cell_type": "code",
   "execution_count": 4,
   "metadata": {},
   "outputs": [],
   "source": [
    "if not os.path.isfile('data/WalkUpMusic.csv'):\n",
    "    write_to_walkup_db()\n",
    "walkup_db=pd.read_csv('data/WalkUpMusic.csv')"
   ]
  },
  {
   "cell_type": "code",
   "execution_count": 5,
   "metadata": {},
   "outputs": [],
   "source": [
    "def loop_through_tracks(track_simple, r, tries=0):\n",
    "    for t in r.tracklist:\n",
    "        print(normalize(t.title))\n",
    "        if track_simple in normalize(t.title) or normalize(t.title) in track_simple:\n",
    "            print(r)\n",
    "            print('Track Found')\n",
    "            return(r)\n",
    "            break\n",
    "    else:\n",
    "        return(None)"
   ]
  },
  {
   "cell_type": "code",
   "execution_count": 6,
   "metadata": {},
   "outputs": [],
   "source": [
    "def loop_through_results(track_simple, artist_simple, results, try_various=False, tries=0):\n",
    "    for r in results:\n",
    "        release = None\n",
    "        for a in r.artists:\n",
    "            a_name = normalize(a.name)\n",
    "            artist_match = a_name in artist_simple or artist_simple in a_name\n",
    "            if try_various:\n",
    "                various = a_name == 'various'\n",
    "            else:\n",
    "                various = False\n",
    "            if artist_match or various:\n",
    "                try:\n",
    "                    release = loop_through_tracks(track_simple, r)\n",
    "                except discogs_client.exceptions.HTTPError as err:\n",
    "                    print(err)\n",
    "                    if err.status_code == 429:\n",
    "                        sleep(60)\n",
    "                        if tries < sys.getrecursionlimit():\n",
    "                            return loop_through_tracks(track_simple, r, try_various, tries+1)\n",
    "                        else:\n",
    "                            print('Recursion Limit Hit')\n",
    "            if release is not None:\n",
    "                return release\n",
    "    else:\n",
    "        return None"
   ]
  },
  {
   "cell_type": "code",
   "execution_count": 58,
   "metadata": {},
   "outputs": [],
   "source": [
    "def retrieve_music_metadata(track, artist, tries=0):\n",
    "    if isinstance(track,str) & isinstance(artist,str):\n",
    "        print(track)\n",
    "        print(artist)\n",
    "        track_simple = normalize(track)\n",
    "        artist_simple = normalize(artist)\n",
    "        try:\n",
    "            results = music_db.search(track_simple + ' ' + artist_simple, type='release')\n",
    "            if len(results) == 0:\n",
    "                results = music_db.search(track, type='release')\n",
    "                if len(results) > 100:\n",
    "                    print('too many results for simplified search')\n",
    "                    return(None)\n",
    "        except discogs_client.exceptions.HTTPError as err:\n",
    "            print(err)\n",
    "            if err.status_code == 429:\n",
    "                sleep(60)\n",
    "                if tries < sys.getrecursionlimit():\n",
    "                    return retrieve_music_metadata(track, artist, tries+1)\n",
    "                else:\n",
    "                    print('Recursion Limit Hit')\n",
    "        try:\n",
    "            release = loop_through_results(track_simple, artist_simple, results)\n",
    "        except discogs_client.exceptions.HTTPError as err:\n",
    "            print(err)\n",
    "            if err.status_code == 429:\n",
    "                sleep(60)\n",
    "                if tries < sys.getrecursionlimit():\n",
    "                    return loop_through_results(track_simple, \n",
    "                                                artist_simple, \n",
    "                                                results, \n",
    "                                                tries=tries+1)\n",
    "                else:\n",
    "                    print('Recursion Limit Hit')\n",
    "        if release is None:\n",
    "            release = loop_through_results(track_simple, \n",
    "                                           artist_simple, \n",
    "                                           results, \n",
    "                                           try_various=True)\n",
    "            if release is None:\n",
    "                print('Nothing Found for ' + track + artist)\n",
    "\n",
    "        return(release)\n",
    "    else:\n",
    "        print('No entry for this player')\n",
    "        return(None)\n",
    "    "
   ]
  }
 ],
 "metadata": {
  "kernelspec": {
   "display_name": "env",
   "language": "python",
   "name": "env"
  },
  "language_info": {
   "codemirror_mode": {
    "name": "ipython",
    "version": 3
   },
   "file_extension": ".py",
   "mimetype": "text/x-python",
   "name": "python",
   "nbconvert_exporter": "python",
   "pygments_lexer": "ipython3",
   "version": "3.6.5"
  }
 },
 "nbformat": 4,
 "nbformat_minor": 1
}
