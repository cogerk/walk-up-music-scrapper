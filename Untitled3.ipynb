{
 "cells": [
  {
   "cell_type": "code",
   "execution_count": 251,
   "metadata": {},
   "outputs": [
    {
     "name": "stderr",
     "output_type": "stream",
     "text": [
      "Loading required package: mclust\n",
      "Warning message:\n",
      "“package ‘mclust’ was built under R version 3.4.4”Package 'mclust' version 5.4.1\n",
      "Type 'citation(\"mclust\")' for citing this R package in publications.\n",
      "\n",
      "Attaching package: ‘mclust’\n",
      "\n",
      "The following object is masked from ‘package:purrr’:\n",
      "\n",
      "    map\n",
      "\n"
     ]
    }
   ],
   "source": [
    "require('tidyverse')\n",
    "require('diptest')\n",
    "require(mclust)"
   ]
  },
  {
   "cell_type": "code",
   "execution_count": 248,
   "metadata": {},
   "outputs": [],
   "source": [
    "df <- read_csv('data/all_data.csv', col_types = cols())\n",
    "\n",
    "# Remove A"
   ]
  },
  {
   "cell_type": "code",
   "execution_count": 258,
   "metadata": {},
   "outputs": [
    {
     "data": {
      "text/plain": [
       "\n",
       "\tHartigans' dip test for unimodality / multimodality\n",
       "\n",
       "data:  df$Age_On_Release\n",
       "D = 0.038516, p-value < 2.2e-16\n",
       "alternative hypothesis: non-unimodal, i.e., at least bimodal\n"
      ]
     },
     "metadata": {},
     "output_type": "display_data"
    }
   ],
   "source": [
    "dip.test(df$Age_On_Release)"
   ]
  },
  {
   "cell_type": "code",
   "execution_count": 262,
   "metadata": {},
   "outputs": [
    {
     "data": {
      "text/plain": [
       "---------------------------------------------------- \n",
       "Gaussian finite mixture model fitted by EM algorithm \n",
       "---------------------------------------------------- \n",
       "\n",
       "Mclust V (univariate, unequal variance) model with 2 components: \n",
       "\n",
       " log.likelihood   n df       BIC       ICL\n",
       "      -2567.165 701  5 -5167.093 -5318.588\n",
       "\n",
       "Clustering table:\n",
       "  1   2 \n",
       "203 498 "
      ]
     },
     "metadata": {},
     "output_type": "display_data"
    }
   ],
   "source": [
    "result <- Mclust(na.omit(df$Age_On_Release))\n",
    "summary(result)"
   ]
  },
  {
   "cell_type": "code",
   "execution_count": null,
   "metadata": {},
   "outputs": [],
   "source": []
  },
  {
   "cell_type": "code",
   "execution_count": 71,
   "metadata": {},
   "outputs": [
    {
     "data": {
      "text/html": [
       "'\\'Rock\\', \\'Folk, World, &amp; Country\\''"
      ],
      "text/latex": [
       "'\\textbackslash{}'Rock\\textbackslash{}', \\textbackslash{}'Folk, World, \\& Country\\textbackslash{}''"
      ],
      "text/markdown": [
       "'\\'Rock\\', \\'Folk, World, &amp; Country\\''"
      ],
      "text/plain": [
       "[1] \"'Rock', 'Folk, World, & Country'\""
      ]
     },
     "metadata": {},
     "output_type": "display_data"
    }
   ],
   "source": []
  },
  {
   "cell_type": "code",
   "execution_count": 68,
   "metadata": {},
   "outputs": [
    {
     "data": {
      "text/html": [
       "<ol>\n",
       "\t<li>NULL</li>\n",
       "</ol>\n"
      ],
      "text/latex": [
       "\\begin{enumerate}\n",
       "\\item NULL\n",
       "\\end{enumerate}\n"
      ],
      "text/markdown": [
       "1. NULL\n",
       "\n",
       "\n"
      ],
      "text/plain": [
       "[[1]]\n",
       "NULL\n"
      ]
     },
     "metadata": {},
     "output_type": "display_data"
    }
   ],
   "source": []
  }
 ],
 "metadata": {
  "kernelspec": {
   "display_name": "R",
   "language": "R",
   "name": "ir"
  },
  "language_info": {
   "codemirror_mode": "r",
   "file_extension": ".r",
   "mimetype": "text/x-r-source",
   "name": "R",
   "pygments_lexer": "r",
   "version": "3.4.3"
  }
 },
 "nbformat": 4,
 "nbformat_minor": 2
}
